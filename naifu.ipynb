{
  "nbformat": 4,
  "nbformat_minor": 0,
  "metadata": {
    "colab": {
      "provenance": [],
      "private_outputs": true,
      "include_colab_link": true
    },
    "kernelspec": {
      "name": "python3",
      "display_name": "Python 3"
    },
    "language_info": {
      "name": "python"
    },
    "accelerator": "GPU",
    "gpuClass": "standard"
  },
  "cells": [
    {
      "cell_type": "markdown",
      "metadata": {
        "id": "view-in-github",
        "colab_type": "text"
      },
      "source": [
        "<a href=\"https://colab.research.google.com/github/faiz-x-it/AiManga/blob/main/naifu.ipynb\" target=\"_parent\"><img src=\"https://colab.research.google.com/assets/colab-badge.svg\" alt=\"Open In Colab\"/></a>"
      ]
    },
    {
      "cell_type": "markdown",
      "source": [
        "Berdasarkan versi modifikasi 4chan dari NovelAILeaks (naifu). sumber\n",
        "\n",
        "Menggunakan front-end resmi + back-end yang dioptimalkan, dapat menembus batas 75 dan mendukung semua model.\n",
        "\n",
        "Kredit: https://t.me/StableDiffusion_CN https://t.me/exlolicon\n",
        "\n",
        "Terima kasih: Anonim, Redface, Penyihir Tembaga, Kagurazaka Sanae️, Jonathan, Goo Goo, Neko dan Inverter, Gaein nidb, "
      ],
      "metadata": {
        "id": "KZ88G-iWCTs7"
      }
    },
    {
      "cell_type": "code",
      "execution_count": null,
      "metadata": {
        "id": "X5yF8TS1CR3L"
      },
      "outputs": [],
      "source": [
        "#@title ###NovelAILeaks API Backend (4chan Ver.) \n",
        "#@markdown Periksa status kerja GPU\n",
        "\n",
        "!nvidia-smi\n",
        "#@markdown ### 1. Unduh backend dan model Novel AI API\n",
        "#@markdown Jika kecepatan unduh terlalu lambat, coba mulai ulang\n",
        "\n",
        "%cd /content/\n",
        "!apt install -y -qq aria2\n",
        "!aria2c --summary-interval=5 -x 3 --allow-overwrite=true -Z \\\n",
        "  https://pub-2fdef7a2969f43289c42ac5ae3412fd4.r2.dev/naifu.tar \\\n",
        "  https://pub-2fdef7a2969f43289c42ac5ae3412fd4.r2.dev/animefull-latest.tar \n",
        "  \n",
        "!echo \"Decompressing...\"\n",
        "!tar xf naifu.tar && rm naifu.tar\n",
        "!echo \"Done.\"\n",
        "\n",
        "#@markdown ### 2. Instal dependensi\n",
        "#@markdown Jika kecepatan unduh terlalu lambat, coba mulai ulang\n",
        "\n",
        "%cd /content/naifu\n",
        "!pip install virtualenv && bash ./setup.sh\n",
        "!curl -Ls https://github.com/ekzhang/bore/releases/download/v0.4.0/bore-v0.4.0-x86_64-unknown-linux-musl.tar.gz | tar zx -C /usr/bin\n",
        "!curl -Lo /usr/bin/cloudflared https://github.com/cloudflare/cloudflared/releases/latest/download/cloudflared-linux-amd64 && chmod +x /usr/bin/cloudflared\n",
        "!/content/naifu/venv/bin/python -m pip install -qq pytorch_lightning==1.7.7\n",
        "\n",
        "#@markdown ### 3. Jalankan model\n",
        "#@markdown Akses alamat pemetaan output (diakhiri dengan `trycloudflare.com` / `bore.pub`).\n",
        "#@markdown - Harap tunggu hingga model dimuat (`Application startup complete` muncul) sebelum mengakses\n",
        "#@markdown - Layanan yang disediakan oleh cloudflare terkadang memiliki waktu tunggu permintaan, dan bore tunnel dapat digunakan sebagai gantinya\n",
        "\n",
        "%cd /content/naifu\n",
        "!sed -i 's/# export SAVE_FILES=\"1\"/export SAVE_FILES=\"1\"/g' run.sh\n",
        "!bash run.sh & cloudflared tunnel --url localhost:6969 \n",
        "\n",
        "#@markdown ### 4. (Opsional) Jalankan dengan model `animefull-latest` 7G\n",
        "#@markdown menggunakan model animefull-final-pruned ukuran 4G secara default. Jika Anda ingin menggunakan model 7G animefull-terbaru, jalankan ini\n",
        "\n",
        "%cd /content/\n",
        "!mkdir /content/naifu/models/animefull-latest\n",
        "!tar xf animefull-latest.tar -C /content/naifu/models/animefull-latest && rm animefull-latest.tar\n",
        "!sed -i 's/map_location=\"cpu\"/map_location=\"cuda\"/g' /content/naifu/hydra_node/models.py\n",
        "\n",
        "%cd /content/naifu\n",
        "%env DTYPE=float16\n",
        "%env CLIP_CONTEXTS=3\n",
        "%env AMP=1\n",
        "%env MODEL=stable-diffusion\n",
        "%env DEV=True\n",
        "%env MODEL_PATH=models/animefull-latest\n",
        "%env ENABLE_EMA=1\n",
        "%env VAE_PATH=models/animevae.pt\n",
        "%env PENULTIMATE=1\n",
        "%env PYTHONDONTWRITEBYTECODE=1\n",
        "%env SAVE_FILES=1\n",
        "\n",
        "!./venv/bin/python -m uvicorn --host 0.0.0.0 --port=6969 main:app & bore local 6969 --to bore.pub & cloudflared tunnel --url localhost:6969 "
      ]
    }
  ]
}